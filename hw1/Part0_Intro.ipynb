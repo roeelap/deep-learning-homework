{
 "cells": [
  {
   "cell_type": "markdown",
   "metadata": {
    "id": "gpYo3BrXXvPe"
   },
   "source": [
    "# CS236781: Deep Learning on Computational Accelerators\n",
    "# Homework Assignment 1\n",
    "\n",
    "Faculty of Computer Science, Technion."
   ]
  },
  {
   "cell_type": "markdown",
   "metadata": {
    "id": "S_0zBrobff92"
   },
   "source": [
    "### Publish date: 4/4/2024\n",
    "### Due date: 2/5/2024 at 23:59"
   ]
  },
  {
   "cell_type": "markdown",
   "metadata": {
    "id": "-sNUgmg3XvPg"
   },
   "source": [
    "Submitted by:\n",
    "\n",
    "| #       | Name          | Id        | email                         |\n",
    "|---------|---------------|-----------|-------------------------------|\n",
    "|Student 1| Roee Lapushin | 318875366 | roee.lapushin@post.runi.ac.il |\n",
    "|Student 2| Yair Nadler   | 316387927 | yair.nadler@post.runi.ac.il   |"
   ]
  },
  {
   "cell_type": "markdown",
   "metadata": {
    "id": "twfglhUMXvPg"
   },
   "source": [
    "## Introduction\n",
    "\n",
    "In this first homework assignment we'll familiarize ourselves with `PyTorch` as a\n",
    "general-purpose tensor library with automatic gradient calculation capabilities.\n",
    "We'll use it to implement some traditional machine-learning algorithms and remind ourselves about\n",
    "basic machine-learning concepts such as different data sets and their uses, model hyperparameters, cross-validation,\n",
    "loss functions and gradient derivation. We'll also familiarize ourselves with other highly useful\n",
    "python machine learning packages such as `numpy`, `sklearn` and `pandas`."
   ]
  },
  {
   "cell_type": "markdown",
   "metadata": {
    "id": "8me3gRS4XvPg"
   },
   "source": [
    "## General Guidelines\n",
    "\n",
    "- Please read the [getting started page](https://vistalab-technion.github.io/cs236781/assignments/getting-started) on the course website. It explains how to **setup, run and submit** the assignment.\n",
    "- The text and code cells in these notebooks are intended to guide you through the\n",
    "  assignment and help you verify your solutions.\n",
    "  The notebooks **do not need to be edited** at all (unless you wish to play around).\n",
    "  The only exception is to fill your name(s) in the above cell before submission.\n",
    "  Please do not remove sections or change the order of any cells.\n",
    "- All your code (and even answers to questions) should be written in the files\n",
    "  within the python package corresponding the assignment number (`hw1`, `hw2`, etc).\n",
    "  You can of course use any editor or IDE to work on these files.\n"
   ]
  },
  {
   "cell_type": "markdown",
   "metadata": {
    "id": "P3Ae9abIXvPg"
   },
   "source": [
    "## Contents\n",
    "- [Part 1: Working with data in `PyTorch` (20 points)](#part1)\n",
    "    - [Datasets](#part1_1)\n",
    "    - [Built-in Datasets and Transforms](#part1_2)\n",
    "    - [`DataLoader`s and `Sampler`s](#part1_3)\n",
    "    - [Training, Validation and Test Sets](#part1_4)\n",
    "- [Part 2: Multiclass linear classification (40 points)](#part2)\n",
    "    - [Linear Classification](#part2_1)\n",
    "    - [Loss Functions](#part2_2)\n",
    "    - [Optimizing a Loss Function with Gradient Descent](#part2_3)\n",
    "    - [Training the model with SGD](#part2_4)\n",
    "- [Part 3: Linear Regression (40 points)](#part3)\n",
    "    - [Dataset exploration](#part3_1)\n",
    "    - [Linear Regression Model](#part3_2)\n",
    "    - [Adding nonlinear features](#part3_3)\n",
    "    - [Generalization](#part3_4)\n"
   ]
  }
 ],
 "metadata": {
  "colab": {
   "provenance": []
  },
  "kernelspec": {
   "display_name": "Python 3",
   "language": "python",
   "name": "python3"
  },
  "language_info": {
   "codemirror_mode": {
    "name": "ipython",
    "version": 3
   },
   "file_extension": ".py",
   "mimetype": "text/x-python",
   "name": "python",
   "nbconvert_exporter": "python",
   "pygments_lexer": "ipython3",
   "version": "3.8.12"
  },
  "toc-autonumbering": false,
  "toc-showcode": false,
  "toc-showmarkdowntxt": false
 },
 "nbformat": 4,
 "nbformat_minor": 0
}
